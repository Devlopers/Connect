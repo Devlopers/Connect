{
 "cells": [
  {
   "cell_type": "code",
   "execution_count": 96,
   "metadata": {
    "collapsed": true
   },
   "outputs": [],
   "source": [
    "%matplotlib inline\n",
    "import numpy as np\n",
    "import matplotlib.pyplot as plt\n",
    "from sklearn.linear_model import LinearRegression\n",
    "from sklearn.metrics import mean_squared_error,mean_absolute_error,\\\n",
    "                            r2_score,median_absolute_error,explained_variance_score\n"
   ]
  },
  {
   "cell_type": "code",
   "execution_count": 97,
   "metadata": {
    "collapsed": false
   },
   "outputs": [
    {
     "data": {
      "text/plain": [
       "<matplotlib.collections.PathCollection at 0x112bb9910>"
      ]
     },
     "execution_count": 97,
     "metadata": {},
     "output_type": "execute_result"
    },
    {
     "data": {
      "image/png": "[encoded data removed]",
      "text/plain": [
       "<matplotlib.figure.Figure at 0x112a6b510>"
      ]
     },
     "metadata": {},
     "output_type": "display_data"
    }
   ],
   "source": [
    "# don't worry about the code in this cell--it's just used to synthesize some data\n",
    "def test_func(x, err=.5):\n",
    "    y = np.random.normal(x, err)\n",
    "    return y\n",
    "def make_data(N=40, error=1.0):\n",
    "    # randomly sample the data\n",
    "    X = np.random.random(N)[:, None]\n",
    "    y = test_func(X.ravel(), error)\n",
    "    \n",
    "    return X, y\n",
    "X, y = make_data(40, error=.5)\n",
    "X_test = np.linspace(-0.1, 1.1, 500)[:, None]\n",
    "plt.scatter(X.ravel(), y)\n"
   ]
  },
  {
   "cell_type": "code",
   "execution_count": 98,
   "metadata": {
    "collapsed": false
   },
   "outputs": [
    {
     "name": "stdout",
     "output_type": "stream",
     "text": [
      "[ 1.17804957]\n",
      "-0.117718944361\n"
     ]
    }
   ],
   "source": [
    "model = LinearRegression()\n",
    "model.fit(X,y)\n",
    "y_pred = model.predict(X)\n",
    "print model.coef_\n",
    "print model.intercept_\n",
    "#y_pred = test_func(X.ravel(), 1)\n"
   ]
  },
  {
   "cell_type": "code",
   "execution_count": 99,
   "metadata": {
    "collapsed": false
   },
   "outputs": [
    {
     "name": "stdout",
     "output_type": "stream",
     "text": [
      "Mean Squared Error:       0.1757\n",
      "Mean Absolute Error:      0.3399\n",
      "r2:                       0.3693\n",
      "Median Absolute Error:    0.317\n",
      "Explained Variance Score: 0.3693\n"
     ]
    }
   ],
   "source": [
    "print \"Mean Squared Error:       {:.4}\".format(mean_squared_error(y,y_pred))\n",
    "print \"Mean Absolute Error:      {:.4}\".format(mean_absolute_error(y,y_pred))\n",
    "print \"r2:                       {:.4}\".format(r2_score(y,y_pred))\n",
    "print \"Median Absolute Error:    {:.4}\".format(median_absolute_error(y,y_pred))\n",
    "print \"Explained Variance Score: {:.4}\".format(explained_variance_score(y,y_pred))"
   ]
  },
  {
   "cell_type": "code",
   "execution_count": 100,
   "metadata": {
    "collapsed": false
   },
   "outputs": [
    {
     "name": "stdout",
     "output_type": "stream",
     "text": [
      "Mean Squared Error:       19.48\n",
      "Mean Absolute Error:      3.46\n",
      "r2:                       -68.92\n",
      "Median Absolute Error:    3.348\n",
      "Explained Variance Score: -29.54\n"
     ]
    }
   ],
   "source": [
    "y_steeper = y_pred * 10\n",
    "print \"Mean Squared Error:       {:.4}\".format(mean_squared_error(y,y_steeper))\n",
    "print \"Mean Absolute Error:      {:.4}\".format(mean_absolute_error(y,y_steeper))\n",
    "print \"r2:                       {:.4}\".format(r2_score(y,y_steeper))\n",
    "print \"Median Absolute Error:    {:.4}\".format(median_absolute_error(y,y_steeper))\n",
    "print \"Explained Variance Score: {:.4}\".format(explained_variance_score(y,y_steeper))"
   ]
  },
  {
   "cell_type": "code",
   "execution_count": 101,
   "metadata": {
    "collapsed": false
   },
   "outputs": [
    {
     "name": "stdout",
     "output_type": "stream",
     "text": [
      "Mean Squared Error:       100.2\n",
      "Mean Absolute Error:      10.0\n",
      "r2:                       -358.6\n",
      "Median Absolute Error:    10.02\n",
      "Explained Variance Score: 0.3693\n"
     ]
    }
   ],
   "source": [
    "y_higher = y_pred + 10\n",
    "print \"Mean Squared Error:       {:.4}\".format(mean_squared_error(y,y_higher))\n",
    "print \"Mean Absolute Error:      {:.4}\".format(mean_absolute_error(y,y_higher))\n",
    "print \"r2:                       {:.4}\".format(r2_score(y,y_higher))\n",
    "print \"Median Absolute Error:    {:.4}\".format(median_absolute_error(y,y_higher))\n",
    "print \"Explained Variance Score: {:.4}\".format(explained_variance_score(y,y_higher))"
   ]
  },
  {
   "cell_type": "code",
   "execution_count": null,
   "metadata": {
    "collapsed": true
   },
   "outputs": [],
   "source": []
  }
 ],
 "metadata": {
  "anaconda-cloud": {},
  "kernelspec": {
   "display_name": "Python [conda root]",
   "language": "python",
   "name": "conda-root-py"
  },
  "language_info": {
   "codemirror_mode": {
    "name": "ipython",
    "version": 2
   },
   "file_extension": ".py",
   "mimetype": "text/x-python",
   "name": "python",
   "nbconvert_exporter": "python",
   "pygments_lexer": "ipython2",
   "version": "2.7.12"
  }
 },
 "nbformat": 4,
 "nbformat_minor": 1
}
