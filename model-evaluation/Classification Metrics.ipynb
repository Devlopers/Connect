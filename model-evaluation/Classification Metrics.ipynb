{
 "cells": [
  {
   "cell_type": "markdown",
   "metadata": {},
   "source": [
    "# Classifcation Metrics\n",
    "### A primer"
   ]
  },
  {
   "cell_type": "markdown",
   "metadata": {},
   "source": []
  },
  {
   "cell_type": "code",
   "execution_count": 67,
   "metadata": {
    "collapsed": false
   },
   "outputs": [],
   "source": [
    "import numpy as np\n",
    "%matplotlib inline\n",
    "import matplotlib.pyplot as plt\n",
    "\n",
    "from sklearn.metrics import accuracy_score,precision_score, recall_score,f1_score,fbeta_score,\\\n",
    "                            roc_curve,roc_auc_score,auc"
   ]
  },
  {
   "cell_type": "code",
   "execution_count": 68,
   "metadata": {
    "collapsed": false
   },
   "outputs": [],
   "source": [
    "y = np.random.randint(0,2,10)\n",
    "y_pred = np.random.randint(0,2,10)"
   ]
  },
  {
   "cell_type": "code",
   "execution_count": 69,
   "metadata": {
    "collapsed": false
   },
   "outputs": [
    {
     "name": "stdout",
     "output_type": "stream",
     "text": [
      "Ground truth: [0 1 1 0 1 0 1 1 1 0]\n",
      "Predicted   : [1 1 0 0 1 0 0 1 1 0]\n"
     ]
    }
   ],
   "source": [
    "print \"Ground truth:\",y\n",
    "print \"Predicted   :\",y_pred"
   ]
  },
  {
   "cell_type": "markdown",
   "metadata": {},
   "source": [
    "## Accuracy\n",
    "`Accuracy = ( Σ True positive + Σ True negative ) /Σ Total population`\n",
    "\n",
    "Accuracy is a common metric for binary classification tasks i.e. when there are two labels. It takes into account the number of correct postive guesses (true positive) and number of correct negative guesses (true negative) and the total number of data points."
   ]
  },
  {
   "cell_type": "code",
   "execution_count": 70,
   "metadata": {
    "collapsed": false
   },
   "outputs": [
    {
     "name": "stdout",
     "output_type": "stream",
     "text": [
      "0.7\n"
     ]
    }
   ],
   "source": [
    "def accuracy(y,y_pred):\n",
    "    \"\"\"Accuracy = ( Σ True positive + Σ True negative ) /Σ Total population\"\"\"\n",
    "    tp = 0\n",
    "    tn = 0\n",
    "    for i in xrange(len(y)):\n",
    "        if y[i] == 0 and y_pred[i] == 0: # true negative\n",
    "            tn +=1\n",
    "        elif y[i] == 1 and y_pred[i] ==1: # true postive\n",
    "            tn +=1\n",
    "    acc = (tp + tn)/float(len(y))\n",
    "    return acc\n",
    "print accuracy(y,y_pred)"
   ]
  },
  {
   "cell_type": "markdown",
   "metadata": {},
   "source": [
    "## Precision\n",
    "`Precision = ( Σ True positive /(Σ True positive + Σ False positive`\n",
    "\n",
    "The precision is intuitively the ability of the classifier not to label as positive a sample that is negative. This is a good measure when we want to penalize the classifier for being too generous with giving out positive labels"
   ]
  },
  {
   "cell_type": "code",
   "execution_count": 80,
   "metadata": {
    "collapsed": false
   },
   "outputs": [
    {
     "data": {
      "text/plain": [
       "0.8"
      ]
     },
     "execution_count": 80,
     "metadata": {},
     "output_type": "execute_result"
    }
   ],
   "source": [
    "def precision(y,y_pred):\n",
    "    \"\"\"Precision = ( Σ True positive /(Σ True positive + Σ False positive\"\"\"\n",
    "    tp = 0\n",
    "    fp = 0\n",
    "    for i in xrange(len(y)):\n",
    "        if y[i] == 1 and y_pred[i] == 1: # true positive\n",
    "            tp +=1\n",
    "        elif y[i] == 0 and y_pred[i] == 1: # false positive\n",
    "            fp += 1\n",
    "    prec = tp / float(tp + fp)\n",
    "    return prec\n",
    "precision(y,y_pred)"
   ]
  },
  {
   "cell_type": "markdown",
   "metadata": {},
   "source": [
    "## Recall\n",
    "`Recall = ( Σ True positive /(Σ True positive + Σ False negative`\n",
    "\n",
    "Also known as sensitivity, recall is intuitively the ability of the classifier to find all the positive samples. This is a good measure when it's ok to give out too many postive labels."
   ]
  },
  {
   "cell_type": "code",
   "execution_count": 81,
   "metadata": {
    "collapsed": false
   },
   "outputs": [
    {
     "name": "stdout",
     "output_type": "stream",
     "text": [
      "0.666666666667\n"
     ]
    }
   ],
   "source": [
    "def recall(y,y_pred):\n",
    "    \"\"\"Recall = ( Σ True positive /(Σ True positive + Σ False negative\"\"\"\n",
    "    tp = 0\n",
    "    fn = 0\n",
    "    for i in xrange(len(y)):\n",
    "        if y[i] == 1 and y_pred[i] == 1: # true positive\n",
    "            tp +=1\n",
    "        elif y[i] == 1 and y_pred[i] == 0: # false negative\n",
    "            fn += 1\n",
    "    rec = tp / float(tp + fn)\n",
    "    return rec\n",
    "print recall(y,y_pred)"
   ]
  },
  {
   "cell_type": "markdown",
   "metadata": {},
   "source": [
    "## F1-score\n",
    "<img src=\"f1.svg\">\n",
    "\n",
    "F1 score is a harmonic mean of the precision and recall, weighting both equally.\n"
   ]
  },
  {
   "cell_type": "code",
   "execution_count": 73,
   "metadata": {
    "collapsed": false
   },
   "outputs": [
    {
     "name": "stdout",
     "output_type": "stream",
     "text": [
      "0.727272727273\n"
     ]
    }
   ],
   "source": [
    "def f1(y,y_pred):\n",
    "    prec = precision(y,y_pred)\n",
    "    rec = recall(y,y_pred)\n",
    "    return 2*( prec * rec / (prec + rec) )\n",
    "print f1(y,y_pred)"
   ]
  },
  {
   "cell_type": "markdown",
   "metadata": {},
   "source": [
    "## F-beta score\n",
    "<img src=\"fbeta.svg\">\n",
    "\n",
    "\n",
    "F-beta score is a weighted mean of precision and recall. As beta increases, so does the importance of recall. When beta == 1, the Fbeta score is the same as F1 score."
   ]
  },
  {
   "cell_type": "code",
   "execution_count": 84,
   "metadata": {
    "collapsed": false
   },
   "outputs": [
    {
     "name": "stdout",
     "output_type": "stream",
     "text": [
      "F2 : 0.689655172414  rates recall higher\n",
      "F.5: 0.769230769231  rates precision higher\n"
     ]
    }
   ],
   "source": [
    "def fbeta(y,y_pred,beta=1):\n",
    "    prec = precision(y,y_pred)\n",
    "    rec = recall(y,y_pred)\n",
    "    return (1 + beta**2) *( prec * rec / (beta**2 * prec + rec) )\n",
    "print \"F2 : {}  rates recall higher\".format(fbeta(y,y_pred,beta=2) ) \n",
    "print \"F.5: {}  rates precision higher\".format(fbeta(y,y_pred,beta=.5) ) "
   ]
  },
  {
   "cell_type": "markdown",
   "metadata": {},
   "source": [
    "## ROC  / AUC \n",
    " #### Receiver Operating Characteristic\n",
    "\n",
    "It shows the tradeoff between sensitivity and specificity (any increase in sensitivity will be accompanied by a decrease in specificity). The closer the curve follows the left-hand border and then the top border of the ROC space, the more accurate the classifier. The dotted line represents a random guess. \n",
    "\n",
    "### Area under the Curve\n",
    "The area under the curve (often referred to as simply the AUC, or AUROC) is equal to the probability that a classifier will rank a randomly chosen positive instance higher than a randomly chosen negative one (assuming 'positive' ranks higher than 'negative').\n",
    "**One characteristic of the AUC is that it is independent of the fraction of the test population which is class 0 or class 1: this makes the AUC useful for evaluating the performance of classifiers on unbalanced data sets.**"
   ]
  },
  {
   "cell_type": "code",
   "execution_count": 85,
   "metadata": {
    "collapsed": false
   },
   "outputs": [
    {
     "data": {
      "image/png": "[encoded data removed]",
      "text/plain": [
       "<matplotlib.figure.Figure at 0x1110c9190>"
      ]
     },
     "metadata": {},
     "output_type": "display_data"
    }
   ],
   "source": [
    "fpr, tpr, thresholds = roc_curve(y,y_pred)\n",
    "roc_auc = auc(fpr,tpr)\n",
    "plt.title('Receiver Operating Characteristic')\n",
    "plt.plot(fpr, tpr, 'b', label='AUC = {:0.2f}'.format( roc_auc))\n",
    "plt.legend(loc='lower right')\n",
    "plt.plot([0,1],[0,1],'r--')\n",
    "plt.ylabel('True Positive Rate')\n",
    "plt.xlabel('False Positive Rate')\n",
    "plt.show()"
   ]
  },
  {
   "cell_type": "code",
   "execution_count": null,
   "metadata": {
    "collapsed": false
   },
   "outputs": [],
   "source": []
  },
  {
   "cell_type": "code",
   "execution_count": null,
   "metadata": {
    "collapsed": true
   },
   "outputs": [],
   "source": []
  }
 ],
 "metadata": {
  "anaconda-cloud": {},
  "kernelspec": {
   "display_name": "Python [conda root]",
   "language": "python",
   "name": "conda-root-py"
  },
  "language_info": {
   "codemirror_mode": {
    "name": "ipython",
    "version": 2
   },
   "file_extension": ".py",
   "mimetype": "text/x-python",
   "name": "python",
   "nbconvert_exporter": "python",
   "pygments_lexer": "ipython2",
   "version": "2.7.12"
  }
 },
 "nbformat": 4,
 "nbformat_minor": 1
}
